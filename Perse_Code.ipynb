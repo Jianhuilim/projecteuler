{
  "nbformat": 4,
  "nbformat_minor": 0,
  "metadata": {
    "colab": {
      "provenance": [],
      "authorship_tag": "ABX9TyMxsKbl0war1SG/a5DFZgz5",
      "include_colab_link": true
    },
    "kernelspec": {
      "name": "python3",
      "display_name": "Python 3"
    },
    "language_info": {
      "name": "python"
    }
  },
  "cells": [
    {
      "cell_type": "markdown",
      "metadata": {
        "id": "view-in-github",
        "colab_type": "text"
      },
      "source": [
        "<a href=\"https://colab.research.google.com/github/Jianhuilim/projecteuler/blob/main/Perse_Code.ipynb\" target=\"_parent\"><img src=\"https://colab.research.google.com/assets/colab-badge.svg\" alt=\"Open In Colab\"/></a>"
      ]
    },
    {
      "cell_type": "code",
      "source": [
        "\"\"\"Input two words (on two separate lines) The first word will be a greeting word such as Hello. The second word will a name such as Bob\n",
        "Output a full greeting as a single line consisting of the greeting word, a space and then the name.\n",
        "Example: see sample below\n",
        "Input Format\n",
        "Two separate lines each containing a single word\n",
        "Constraints\n",
        "All inputs will be less than 20 characters long\n",
        "Output Format\n",
        "A single line of text\"\"\"\n",
        "\n",
        "text1 = input()\n",
        "length1 = len(text1)\n",
        "while length1 > 20:\n",
        "  text1 = input()\n",
        "\n",
        "text2 = input()\n",
        "length2 = len(text2)\n",
        "while length2 > 20:\n",
        "  text2 = input()\n",
        "\n",
        "print(text1 + \" \" + text2)"
      ],
      "metadata": {
        "id": "s-dTGN7QikO-"
      },
      "execution_count": null,
      "outputs": []
    },
    {
      "cell_type": "code",
      "source": [
        "\"\"\"Input two positive whole numbers. Output the result of subtracting the smaller one from the larger one.\n",
        "Input Format\n",
        "Two lines of input each containing a positive whole number.\n",
        "Constraints\n",
        "Input numbers will be between 0 and 1000 inclusive\n",
        "The two numbers will never be the same as each other\n",
        "Output Format\n",
        "A single positive whole number\"\"\"\n",
        "\n",
        "num1 = input()\n",
        "while not num1.isnumeric():\n",
        "  num1 = input()\n",
        "\n",
        "num1 = int(num1)\n",
        "while num1 < 0 or num1 > 1000:\n",
        "  num1 = input()\n",
        "\n",
        "num2 = input()\n",
        "while not num2.isnumeric():\n",
        "  num2 = input()\n",
        "\n",
        "num2 = int(num2)\n",
        "while num2 < 0 or num2 > 1000:\n",
        "  num2 = input()\n",
        "\n",
        "if num1 == num2:\n",
        "  num2 = input()\n",
        "\n",
        "print(abs(num1 - num2))"
      ],
      "metadata": {
        "id": "LpCx4Qy1k8gp"
      },
      "execution_count": null,
      "outputs": []
    },
    {
      "cell_type": "code",
      "execution_count": null,
      "metadata": {
        "id": "hY25y65BczFo"
      },
      "outputs": [],
      "source": [
        "\"\"\"Input a single word.\n",
        "Output this word repeated as many times as necessary (without spaces or line breaks) so that the length of the output is greater than 30 characters (with no more repeats than are needed)\n",
        "Example: see sample below\n",
        "Example Explanation: challenge has 9 characters so it must be repeated four times before the output is first greater than 30 characters.\n",
        "Input Format\n",
        "A single line containing a single word\n",
        "Constraints\n",
        "The initial 'word' will be less than 50 characters long\n",
        "All 'words' will consist only of lowercase characters from the alphabet\n",
        "Output Format\n",
        "A single line of text with no spaces\"\"\"\n",
        "\n",
        "word = input()\n",
        "\n",
        "while len(word) >= 50 or not word.islower():\n",
        "  word = input()\n",
        "\n",
        "length = len(word)\n",
        "limit = 30 // length\n",
        "repeat = limit + 1\n",
        "combined = \"\"\n",
        "\n",
        "for i in range(repeat):\n",
        "  combined = combined + word\n",
        "\n",
        "print(combined)"
      ]
    },
    {
      "cell_type": "code",
      "source": [
        "\"\"\"Convert the following pseudocode to run in your programming language. The pseudocode is not perfect and there is also a syntactical errors in it to spot & correct. The code is inputting a whole number between 1 and 100 inclusive and printing out yes dream big if it is greater than 50 and on the small side otherwise\n",
        "\n",
        "numberChoice <- USERINPUT\n",
        "IF numberChoice > 50 \n",
        "  THEN\n",
        "    OUTPUT \"yes dream big\n",
        "  ELSE\n",
        "    OUTPUT \"on the small side\"\n",
        "ENDIF\n",
        "\n",
        "Input Format\n",
        "A single line containing a single positive whole number\n",
        "Constraints\n",
        "The whole number will be between 1 and 100 inclusive\n",
        "Output Format\n",
        "A single line of text\"\"\"\n",
        "\n",
        "numChoice = input() \n",
        "\n",
        "while not numChoice.isnumeric():\n",
        "  numChoice  = input()\n",
        "\n",
        "numChoice = int(numChoice)\n",
        "\n",
        "while numChoice < 1 or numChoice > 100:\n",
        "  numChoice = input()\n",
        "\n",
        "if numChoice > 50:\n",
        "  print(\"yes dream big\")\n",
        "\n",
        "else: \n",
        "  print(\"on the small side\")\n",
        " \n"
      ],
      "metadata": {
        "id": "rvynmdIVmJIj"
      },
      "execution_count": null,
      "outputs": []
    },
    {
      "cell_type": "code",
      "source": [
        "\"\"\"Jack is coding a simple calculator which inputs a whole number and then an operation and then another whole number and outputs the result. The operations he is supporting are only + and * so it will be one of these two. Write some code to implement his mini-calculator.\n",
        "\n",
        "Input Format\n",
        "Three lines of input, the first and third will be integers (whole numbers) and the middle one will be a single character, either + or *\n",
        "\n",
        "Constraints\n",
        "All inputs will be whole numbers between -100 and 100\n",
        "\n",
        "Output Format\n",
        "A single whole number giving the result of the requested calculation\"\"\"\n",
        "\n",
        "num1 = input()\n",
        "while int(num1) < -100 or int(num1) > 100:\n",
        "  num1 = input()\n",
        "\n",
        "num2 = input()\n",
        "while int(num2) < -100 or int(num2) > 100:\n",
        "  num2 = input()\n",
        "\n",
        "operator = input()\n",
        "if operator != \"+\" and operator != \"*\":\n",
        "     operator = input()\n",
        "\n",
        "if operator == \"+\":\n",
        "  print(int(num1) + int(num2))\n",
        "\n",
        "else:\n",
        "  print(int(num1) * int(num2))"
      ],
      "metadata": {
        "id": "7bTOo3pBmcC4"
      },
      "execution_count": null,
      "outputs": []
    },
    {
      "cell_type": "code",
      "source": [
        "\"\"\"Ellie took part in the 100m sprint at her school with four other competitors. Five names will be provided, one on each line, to indicate the finishing order with the first name coming 1st and the last name coming 5th. Ellie will be one of those names, written exactly as shown here. She would like to know what position she came: 1st/2nd/3rd/4th/5th.\n",
        "\n",
        "Input Format\n",
        "5 lines of input giving 5 names, one of which will be Ellie.\n",
        "\n",
        "\n",
        "Output Format\n",
        "A single placement written as one of 1st/2nd/3rd/4th/5th to indicate Ellie's placement.\"\"\"\n",
        "\n",
        "First = input()\n",
        "Second = input()\n",
        "Third = input()\n",
        "Fourth = input()\n",
        "Fifth = input()\n",
        "\n",
        "if First == \"Ellie\":\n",
        "  print(\"1st\")\n",
        "if Second == \"Ellie\":\n",
        "  print(\"2nd\")\n",
        "if Third == \"Ellie\":\n",
        "  print(\"3rd\")\n",
        "if Fourth == \"Ellie\":\n",
        "  print(\"4th\")\n",
        "if Fifth == \"Ellie\":\n",
        "  print(\"5th\")"
      ],
      "metadata": {
        "id": "gDIhzIa7mvsE"
      },
      "execution_count": null,
      "outputs": []
    },
    {
      "cell_type": "code",
      "source": [
        "\"\"\"Input two single uppercase characters (one on each line) and print them as a combined line of text in alphabetical order.\n",
        "\n",
        "Example: see sample below\n",
        "\n",
        "Input Format\n",
        "\n",
        "Two lines of input, each as a single text character\n",
        "\n",
        "\n",
        "Output Format\n",
        "\n",
        "A single line of text consisting of two characters\"\"\"\n",
        "\n",
        "letter1 = input()\n",
        "letter2 = input()\n",
        "if letter1 < letter2:\n",
        "  print(letter1.upper() + letter2.upper())\n",
        "else:\n",
        "  print(letter2.upper() + letter1.upper())\n",
        "\n"
      ],
      "metadata": {
        "id": "7P1SB-0BrokP"
      },
      "execution_count": null,
      "outputs": []
    },
    {
      "cell_type": "code",
      "source": [
        "\"\"\"Every day that Amy waters her plant the stem grows by one extra cm as represented here by a | character. The top of her plant is represented by ./ characters which includes a full-stop character in-between.\n",
        "\n",
        "Input the number of days that she waters her plant for and output a character drawing of her plant after that many days. The diagram should use the full stop (.) as a background character to create a rectangular output of width 3 characters.\n",
        "\n",
        "Example: see sample below\n",
        "\n",
        "Input Format\n",
        "\n",
        "A single positive whole number\n",
        "\n",
        "Constraints\n",
        "\n",
        "The input will be a positive integer between 1 and 100 inclusive.\n",
        "\n",
        "Output Format\n",
        "\n",
        "A character drawing of her plant using | \\ / and . characters over multiple lines.\"\"\"\n",
        "\n",
        "Day = input()\n",
        "\n",
        "if int(Day) < 1 or int(Day) > 100:\n",
        "  Day = input()\n",
        "\n",
        "print(\"\\./\")\n",
        "\n",
        "for i in range (int(Day)):\n",
        "  print(\".|.\") "
      ],
      "metadata": {
        "id": "MwvxObE7V0U8"
      },
      "execution_count": null,
      "outputs": []
    },
    {
      "cell_type": "code",
      "source": [
        "\"\"\"Jamie's text 'dance' instructions are given as a sequence of 4 characters. These are <+&>. The sequence repeats, so after the > move, next is the < move.\n",
        "\n",
        "He wants a program to print out 8 dance moves, but starting at any character which will be given as input.\n",
        "\n",
        "Input his first dance character and print out his completed two-cycle dance.\n",
        "\n",
        "Example: see sample below.\n",
        "\n",
        "Input Format\n",
        "\n",
        "A single character from one of < + & >\n",
        "\n",
        "Output Format\n",
        "\n",
        "A completed two-cycle text dance consisting of 8 characters on a single line of output.\"\"\"\n",
        "\n",
        "Char = input()\n",
        "\n",
        "while Char != \"<\" and Char != \"+\" and Char != \"&\" and Char != \">\":\n",
        "  Char = input()\n",
        "\n",
        "if Char == \"<\":\n",
        "  print(\"<+&><+&>\")\n",
        "if Char ==\"+\":\n",
        "  print(\"+&><+&><\")\n",
        "if Char == \"&\":\n",
        "  print(\"&><+&><+\")\n",
        "if Char ==\">\":\n",
        "  print(\"><+&><+&\")\n"
      ],
      "metadata": {
        "id": "JeCw6AVFV7F7"
      },
      "execution_count": null,
      "outputs": []
    },
    {
      "cell_type": "code",
      "source": [
        "\"\"\"Ellen's opinion of a valid (good) icecream milkshake has two portions of ice-cream (indicated by the character I), one portion of milk (M), three ice cubes (C) and one portion of whipped cream (W).\n",
        "\n",
        "She just sticks it all in the blender and doesn't have the cream on top (a bit odd) so she doesn't mind what order she puts the ingredients in the blender. Input a string of SIX characters and output the missing character to state the ingredient that Ellen needs to add to make a valid icecream milkshare once blended.\n",
        "\n",
        "Example: see sample below\n",
        "\n",
        "Input Format\n",
        "\n",
        "A single line consisting of six characters\n",
        "\n",
        "Output Format\n",
        "\n",
        "A single letter (character) either I,M C or W to indicate the missing ingredient needed to make a valid milkshake\"\"\"\n",
        "\n",
        "ingre = input()\n",
        "\n",
        "while ingre != \"I\" and ingre != \"M\" and ingre != \"C\" and ingre != \"W\"\n",
        "  ingre = input()\n",
        "\n",
        "\n"
      ],
      "metadata": {
        "id": "p2fC4js7WBUn"
      },
      "execution_count": null,
      "outputs": []
    }
  ]
}