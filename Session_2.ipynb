{
  "cells": [
    {
      "cell_type": "markdown",
      "metadata": {
        "id": "view-in-github",
        "colab_type": "text"
      },
      "source": [
        "<a href=\"https://colab.research.google.com/github/Jianhuilim/projecteuler/blob/main/Session_2.ipynb\" target=\"_parent\"><img src=\"https://colab.research.google.com/assets/colab-badge.svg\" alt=\"Open In Colab\"/></a>"
      ]
    },
    {
      "cell_type": "markdown",
      "metadata": {
        "id": "XNxQklfmkfCL"
      },
      "source": [
        "# Introduction to Python\n",
        "\n",
        "* comment\n",
        "* input and output\n",
        "* data types - int, float, str, bool\n",
        "* variables + assignment\n",
        "* operators - math/arithmetic, logical (and, or, not), comparison (==, !=, >, <, >=, <=)\n",
        "* conditionals - if-else, nested\n",
        "* loops - for, while\n",
        "* lists\n",
        "* functions"
      ]
    },
    {
      "cell_type": "markdown",
      "metadata": {
        "id": "Zc_vkKcOrm8Z"
      },
      "source": [
        "# Programming Style \n",
        "* meaningful identifier names\n",
        "* appropriate comments\n",
        "* appropriate use of white space (indentation, blank lines)"
      ]
    },
    {
      "cell_type": "code",
      "execution_count": null,
      "metadata": {
        "colab": {
          "base_uri": "https://localhost:8080/"
        },
        "id": "hBA_5eHDSrIs",
        "outputId": "7faa44b9-d836-48ad-807a-eb997ee9f046"
      },
      "outputs": [
        {
          "name": "stdout",
          "output_type": "stream",
          "text": [
            "Enter name: tom\n",
            "Enter weight (kg): 75\n",
            "Enter height (m): 1.82\n",
            "tom 22.6421929718633\n"
          ]
        }
      ],
      "source": [
        "# BMI calculator\n",
        "\n",
        "# input\n",
        "name = input(\"Enter name: \") # str\n",
        "weight = int(input(\"Enter weight (kg): \")) # int\n",
        "height = float(input(\"Enter height (m): \"))  # float\n",
        "\n",
        "# process\n",
        "bmi = weight / (height * height)\n",
        "\n",
        "# output\n",
        "print(name, bmi) \n"
      ]
    },
    {
      "cell_type": "code",
      "execution_count": null,
      "metadata": {
        "colab": {
          "base_uri": "https://localhost:8080/"
        },
        "id": "chmzlpmMviDW",
        "outputId": "168466be-c406-474a-b24d-5f6a6d9c4990"
      },
      "outputs": [
        {
          "name": "stdout",
          "output_type": "stream",
          "text": [
            "normal\n"
          ]
        }
      ],
      "source": [
        "# conditionals\n",
        "\n",
        "if bmi < 18.5:\n",
        "  print(\"malnutrition\")\n",
        "elif 18.5 <= bmi < 23:\n",
        "  print(\"normal\")\n",
        "elif 23 <= bmi < 27.5:\n",
        "  print(\"moderate risk\")\n",
        "else: # bmi > 27.5\n",
        "  print(\"high risk\")"
      ]
    },
    {
      "cell_type": "code",
      "execution_count": null,
      "metadata": {
        "colab": {
          "base_uri": "https://localhost:8080/"
        },
        "id": "uki6Thilxjtw",
        "outputId": "2911c9f5-a029-4956-cf55-07a16847c7e1"
      },
      "outputs": [
        {
          "name": "stdout",
          "output_type": "stream",
          "text": [
            "equal\n"
          ]
        }
      ],
      "source": [
        "a = 0\n",
        "b = 3\n",
        "\n",
        "if a > b:\n",
        "  print(\"a bigger\")\n",
        "elif a < b:\n",
        "  print(\"a smaller\")\n",
        "else: # a == b\n",
        "  print(\"equal\")"
      ]
    },
    {
      "cell_type": "code",
      "execution_count": null,
      "metadata": {
        "id": "1HXh40G8yXjv"
      },
      "outputs": [],
      "source": [
        "if a > b:\n",
        "  print(\"a bigger\")\n",
        "if a < b:\n",
        "  print(\"a smaller\") \n",
        "if a == b:\n",
        "  print(\"equal\") # need to be explicit"
      ]
    },
    {
      "cell_type": "markdown",
      "metadata": {
        "id": "ojTKfwRyzijh"
      },
      "source": [
        "# Loops (in general)\n",
        "- for (fixed number of times)\n",
        "- while (0 or more times)\n",
        "- repeat-until (not supported in Python) (at least once)"
      ]
    },
    {
      "cell_type": "code",
      "execution_count": null,
      "metadata": {
        "colab": {
          "base_uri": "https://localhost:8080/"
        },
        "id": "_cBaynMIzgs4",
        "outputId": "76ff3268-ad27-46a4-a2e5-bbe43bf4f2a8"
      },
      "outputs": [
        {
          "name": "stdout",
          "output_type": "stream",
          "text": [
            "0\n",
            "1\n",
            "2\n",
            "3\n",
            "4\n"
          ]
        }
      ],
      "source": [
        "for i in range(5): # range(0, 5, 1)\n",
        "  print(i)"
      ]
    },
    {
      "cell_type": "code",
      "execution_count": null,
      "metadata": {
        "id": "gnOYBRNH4vFA"
      },
      "outputs": [],
      "source": [
        "i = 0\n",
        "while i < 5:\n",
        "  print(i)\n",
        "  i += 1"
      ]
    },
    {
      "cell_type": "code",
      "execution_count": null,
      "metadata": {
        "colab": {
          "base_uri": "https://localhost:8080/"
        },
        "id": "lrw_7ADs6N6Y",
        "outputId": "392338a4-596c-4f9e-9e9f-04cf97479d0d"
      },
      "outputs": [
        {
          "name": "stdout",
          "output_type": "stream",
          "text": [
            "True\n"
          ]
        }
      ],
      "source": [
        "print(i > 0)"
      ]
    },
    {
      "cell_type": "code",
      "execution_count": null,
      "metadata": {
        "id": "z1oosxmG59T0"
      },
      "outputs": [],
      "source": []
    },
    {
      "cell_type": "code",
      "execution_count": null,
      "metadata": {
        "colab": {
          "base_uri": "https://localhost:8080/"
        },
        "id": "G4LuoR4-0ii0",
        "outputId": "5480f448-c25b-4610-d457-84a0957d9fdc"
      },
      "outputs": [
        {
          "name": "stdout",
          "output_type": "stream",
          "text": [
            "1\n",
            "3\n",
            "5\n",
            "7\n",
            "9\n"
          ]
        }
      ],
      "source": [
        "for i in range(1, 11, 2):\n",
        "  print(i)"
      ]
    },
    {
      "cell_type": "code",
      "execution_count": null,
      "metadata": {
        "colab": {
          "base_uri": "https://localhost:8080/"
        },
        "id": "q-JbxQTg0wUo",
        "outputId": "d0756c73-fb17-4c8f-e6e7-51174491d47b"
      },
      "outputs": [
        {
          "name": "stdout",
          "output_type": "stream",
          "text": [
            "1\n",
            "3\n",
            "5\n",
            "7\n",
            "9\n"
          ]
        }
      ],
      "source": [
        "for i in range(1, 11, 1):\n",
        "  if i % 2 == 1: # odd\n",
        "    print(i)"
      ]
    },
    {
      "cell_type": "code",
      "execution_count": null,
      "metadata": {
        "colab": {
          "base_uri": "https://localhost:8080/"
        },
        "id": "GsllMz681REQ",
        "outputId": "177b6322-aa7f-406a-9538-6f6c8ae8a9a9"
      },
      "outputs": [
        {
          "name": "stdout",
          "output_type": "stream",
          "text": [
            "1 1\n",
            "1 2\n",
            "1\n",
            "1 3\n",
            "1\n",
            "1 4\n",
            "1\n",
            "2 1\n",
            "2 2\n",
            "2 3\n",
            "2 4\n",
            "3 1\n",
            "3 2\n",
            "3\n",
            "3 3\n",
            "3 4\n",
            "4 1\n",
            "4 2\n",
            "4 3\n",
            "4\n",
            "4 4\n",
            "5 1\n",
            "5 2\n",
            "5\n",
            "5 3\n",
            "5 4\n",
            "5\n",
            "6 1\n",
            "6 2\n",
            "6 3\n",
            "6 4\n",
            "7 1\n",
            "7 2\n",
            "7\n",
            "7 3\n",
            "7\n",
            "7 4\n"
          ]
        }
      ],
      "source": [
        "for i in range(1, 8, 1):\n",
        "  for j in range(1, 5, 1):\n",
        "    # print(i, j)\n",
        "    if i % j == 1:\n",
        "      print(i)"
      ]
    },
    {
      "cell_type": "code",
      "execution_count": null,
      "metadata": {
        "colab": {
          "base_uri": "https://localhost:8080/"
        },
        "id": "XXkO3w4b3MjU",
        "outputId": "3e3e4fc0-8412-421d-d5fb-35d4c6eaf89d"
      },
      "outputs": [
        {
          "name": "stdout",
          "output_type": "stream",
          "text": [
            "t\n",
            "o\n",
            "m\n"
          ]
        }
      ],
      "source": [
        "name = \"tom\"\n",
        "for char in name:\n",
        "  print(char)"
      ]
    },
    {
      "cell_type": "markdown",
      "metadata": {
        "id": "PxthwfAhqZtK"
      },
      "source": [
        "# Lists\n",
        "- Python's name for arrays\n",
        "- organised collection of data where items are stored in contiguous locations in memory\n",
        "- operations: declare/initialise, insert, remove, update, traverse"
      ]
    },
    {
      "cell_type": "code",
      "execution_count": null,
      "metadata": {
        "colab": {
          "base_uri": "https://localhost:8080/"
        },
        "id": "PzPkuunyrHyi",
        "outputId": "eef03c3a-6d55-41d0-dd5b-24cf552f1d8f"
      },
      "outputs": [
        {
          "name": "stdout",
          "output_type": "stream",
          "text": [
            "[]\n",
            "[20.5, 23.7, 16.2]\n",
            "[123, 3.14, 'tom', True]\n"
          ]
        }
      ],
      "source": [
        "# declare/initialise\n",
        "bmis = []\n",
        "print(bmis)\n",
        "\n",
        "bmis = [20.5, 23.7, 16.2]\n",
        "print(bmis)\n",
        "\n",
        "rojak = [123, 3.14, \"tom\", True]\n",
        "print(rojak)"
      ]
    },
    {
      "cell_type": "code",
      "execution_count": null,
      "metadata": {
        "colab": {
          "base_uri": "https://localhost:8080/"
        },
        "id": "JFvvRSMstVuU",
        "outputId": "57e674be-0ed4-47af-92a4-e906c4b28b16"
      },
      "outputs": [
        {
          "name": "stdout",
          "output_type": "stream",
          "text": [
            "20.5 23.7 16.2 \n",
            "abc\n",
            "xyz\n"
          ]
        }
      ],
      "source": [
        "for i in range(len(bmis)):\n",
        "  print(bmis[i], end=' ')\n",
        "print() # print('\\n')\n",
        "print(\"abc\")\n",
        "print(\"xyz\")"
      ]
    },
    {
      "cell_type": "code",
      "execution_count": null,
      "metadata": {
        "colab": {
          "base_uri": "https://localhost:8080/"
        },
        "id": "wDCZing3xbnL",
        "outputId": "a3c9fa0e-fb3a-4bfb-ed84-976aa63ac907"
      },
      "outputs": [
        {
          "name": "stdout",
          "output_type": "stream",
          "text": [
            "20.5 23.7 16.2\n"
          ]
        }
      ],
      "source": [
        "for i in range(len(bmis)-1):\n",
        "  print(bmis[i], end=' ')\n",
        "print(bmis[-1])"
      ]
    },
    {
      "cell_type": "code",
      "execution_count": null,
      "metadata": {
        "colab": {
          "base_uri": "https://localhost:8080/"
        },
        "id": "C4wERs1qv5OR",
        "outputId": "a7923da6-de0b-4529-8c4a-baa60a3f6c4e"
      },
      "outputs": [
        {
          "name": "stdout",
          "output_type": "stream",
          "text": [
            "20.5\n",
            "23.7\n",
            "16.2\n"
          ]
        }
      ],
      "source": [
        "for bmi in bmis:\n",
        "  print(bmi)"
      ]
    },
    {
      "cell_type": "code",
      "execution_count": null,
      "metadata": {
        "colab": {
          "base_uri": "https://localhost:8080/"
        },
        "id": "GVcdatt3tuE6",
        "outputId": "6ec76f87-6d1f-4deb-e3ee-f786241cc0d3"
      },
      "outputs": [
        {
          "data": {
            "text/plain": [
              "20.5"
            ]
          },
          "execution_count": 4,
          "metadata": {},
          "output_type": "execute_result"
        }
      ],
      "source": [
        "bmis[0]"
      ]
    },
    {
      "cell_type": "code",
      "execution_count": null,
      "metadata": {
        "colab": {
          "base_uri": "https://localhost:8080/"
        },
        "id": "CD5Xibw_txVh",
        "outputId": "47b0451c-52a3-42f1-df22-de49d64878b8"
      },
      "outputs": [
        {
          "name": "stdout",
          "output_type": "stream",
          "text": [
            "16.2\n",
            "16.2\n",
            "16.2\n"
          ]
        }
      ],
      "source": [
        "print(bmis[2])\n",
        "print(bmis[len(bmis)-1])\n",
        "print(bmis[-1])"
      ]
    },
    {
      "cell_type": "code",
      "execution_count": null,
      "metadata": {
        "colab": {
          "base_uri": "https://localhost:8080/"
        },
        "id": "kPuLXopJuRSQ",
        "outputId": "46935aad-a0f0-403f-e978-eaeacbd0da6e"
      },
      "outputs": [
        {
          "name": "stdout",
          "output_type": "stream",
          "text": [
            "[23.7, 16.2]\n",
            "[23.7, 16.2]\n",
            "[23.7]\n"
          ]
        }
      ],
      "source": [
        "# slicing operation\n",
        "print(bmis[1:len(bmis)]) # bmis[1:3]\n",
        "print(bmis[1:])\n",
        "#print(bmis[1:2])"
      ]
    },
    {
      "cell_type": "code",
      "execution_count": null,
      "metadata": {
        "colab": {
          "base_uri": "https://localhost:8080/"
        },
        "id": "-CTHlMTvvA1s",
        "outputId": "c25072d4-7ec7-4e85-fdcf-734372da63d2"
      },
      "outputs": [
        {
          "name": "stdout",
          "output_type": "stream",
          "text": [
            "[20.5, 23.7]\n",
            "[20.5, 23.7]\n"
          ]
        }
      ],
      "source": [
        "print(bmis[0:2])\n",
        "print(bmis[:2])"
      ]
    },
    {
      "cell_type": "code",
      "execution_count": null,
      "metadata": {
        "colab": {
          "base_uri": "https://localhost:8080/"
        },
        "id": "guZYwKsnx0VU",
        "outputId": "ef730934-27f2-424e-d5f7-b98e2dd83f72"
      },
      "outputs": [
        {
          "name": "stdout",
          "output_type": "stream",
          "text": [
            "[20.5, 23.7, 16.2, 18.88]\n"
          ]
        }
      ],
      "source": [
        "# insert to end\n",
        "bmis.append(18.88)\n",
        "print(bmis)"
      ]
    },
    {
      "cell_type": "code",
      "execution_count": null,
      "metadata": {
        "colab": {
          "base_uri": "https://localhost:8080/"
        },
        "id": "D6eGVsCAyMJ5",
        "outputId": "7302aba5-b81c-4025-b6da-2f0b1895ff6b"
      },
      "outputs": [
        {
          "name": "stdout",
          "output_type": "stream",
          "text": [
            "[111, 99.99, 99.99, 20.5, 23.7, 16.2, 18.88]\n"
          ]
        }
      ],
      "source": [
        "# insert to anywhere\n",
        "bmis.insert(0, 111)\n",
        "print(bmis)"
      ]
    },
    {
      "cell_type": "code",
      "execution_count": null,
      "metadata": {
        "colab": {
          "base_uri": "https://localhost:8080/"
        },
        "id": "xdNbGqgZyeu3",
        "outputId": "c96bda90-0e01-41c6-864c-c5ad23f0a3cb"
      },
      "outputs": [
        {
          "name": "stdout",
          "output_type": "stream",
          "text": [
            "[111, 99.99, 99.99, 555, 20.5, 23.7, 16.2, 18.88]\n"
          ]
        }
      ],
      "source": [
        "# insert to anywhere\n",
        "bmis.insert(3, 555)\n",
        "print(bmis)"
      ]
    },
    {
      "cell_type": "code",
      "execution_count": null,
      "metadata": {
        "colab": {
          "base_uri": "https://localhost:8080/"
        },
        "id": "mGb-GhRHy2JD",
        "outputId": "02d051a3-d35f-473e-bf49-642776e4141d"
      },
      "outputs": [
        {
          "name": "stdout",
          "output_type": "stream",
          "text": [
            "[111, 99.99, 99.99, 555, 20.5, 23.7, 16.2]\n"
          ]
        }
      ],
      "source": [
        "# delete from end\n",
        "bmis.pop()\n",
        "print(bmis)"
      ]
    },
    {
      "cell_type": "code",
      "execution_count": null,
      "metadata": {
        "colab": {
          "base_uri": "https://localhost:8080/"
        },
        "id": "6vTWugyMzDus",
        "outputId": "379107f7-7128-4e67-e54d-2719a8d979f1"
      },
      "outputs": [
        {
          "name": "stdout",
          "output_type": "stream",
          "text": [
            "[111, 99.99, 555, 20.5, 23.7, 16.2]\n"
          ]
        }
      ],
      "source": [
        "# delete from anywhere\n",
        "bmis.remove(99.99)\n",
        "print(bmis)"
      ]
    },
    {
      "cell_type": "code",
      "execution_count": null,
      "metadata": {
        "colab": {
          "base_uri": "https://localhost:8080/"
        },
        "id": "weVqo9tBzbCv",
        "outputId": "2d2436f9-8141-4b00-c05d-3d34a5533eaa"
      },
      "outputs": [
        {
          "name": "stdout",
          "output_type": "stream",
          "text": [
            "[99.99, 555, 20.5, 23.7, 16.2]\n"
          ]
        }
      ],
      "source": [
        "# delete using index\n",
        "del bmis[0]\n",
        "print(bmis)"
      ]
    },
    {
      "cell_type": "code",
      "execution_count": null,
      "metadata": {
        "colab": {
          "base_uri": "https://localhost:8080/"
        },
        "id": "yKed-O4ozq8r",
        "outputId": "d2974d08-5bbb-4775-fd09-5d88ba2fd99f"
      },
      "outputs": [
        {
          "name": "stdout",
          "output_type": "stream",
          "text": [
            "[88.88, 555, 20.5, 23.7, 16.2]\n"
          ]
        }
      ],
      "source": [
        "# update\n",
        "bmis[0] = 88.88\n",
        "print(bmis)"
      ]
    },
    {
      "cell_type": "code",
      "execution_count": null,
      "metadata": {
        "colab": {
          "base_uri": "https://localhost:8080/",
          "height": 166
        },
        "id": "fpDf6Dtez3Qm",
        "outputId": "30a93dc0-d04e-4a1e-befc-5beae203484a"
      },
      "outputs": [
        {
          "ename": "IndexError",
          "evalue": "ignored",
          "output_type": "error",
          "traceback": [
            "\u001b[0;31m---------------------------------------------------------------------------\u001b[0m",
            "\u001b[0;31mIndexError\u001b[0m                                Traceback (most recent call last)",
            "\u001b[0;32m<ipython-input-31-646c313c4410>\u001b[0m in \u001b[0;36m<module>\u001b[0;34m\u001b[0m\n\u001b[0;32m----> 1\u001b[0;31m \u001b[0mprint\u001b[0m\u001b[0;34m(\u001b[0m\u001b[0mbmis\u001b[0m\u001b[0;34m[\u001b[0m\u001b[0mlen\u001b[0m\u001b[0;34m(\u001b[0m\u001b[0mbmis\u001b[0m\u001b[0;34m)\u001b[0m\u001b[0;34m]\u001b[0m\u001b[0;34m)\u001b[0m\u001b[0;34m\u001b[0m\u001b[0;34m\u001b[0m\u001b[0m\n\u001b[0m",
            "\u001b[0;31mIndexError\u001b[0m: list index out of range"
          ]
        }
      ],
      "source": [
        "print(bmis[len(bmis)])"
      ]
    },
    {
      "cell_type": "code",
      "execution_count": null,
      "metadata": {
        "colab": {
          "background_save": true
        },
        "id": "hhwmUIBP0Oks",
        "outputId": "a0719e4e-cda0-497b-9afd-bc8328f7443e"
      },
      "outputs": [
        {
          "name": "stdout",
          "output_type": "stream",
          "text": [
            "23.7\n"
          ]
        }
      ],
      "source": [
        "print(bmis[-2])"
      ]
    },
    {
      "cell_type": "code",
      "source": [
        "# strings\n",
        "message = 'abcde' # \"abcde\" or '''abcde''' or \"\"\"abcde\"\"\"\n",
        "print(message)\n",
        "message"
      ],
      "metadata": {
        "colab": {
          "base_uri": "https://localhost:8080/",
          "height": 52
        },
        "id": "RBQey7WX1aXA",
        "outputId": "c3f49610-d21b-4285-9678-518655d8eb95"
      },
      "execution_count": null,
      "outputs": [
        {
          "output_type": "stream",
          "name": "stdout",
          "text": [
            "abcde\n"
          ]
        },
        {
          "output_type": "execute_result",
          "data": {
            "text/plain": [
              "'abcde'"
            ],
            "application/vnd.google.colaboratory.intrinsic+json": {
              "type": "string"
            }
          },
          "metadata": {},
          "execution_count": 37
        }
      ]
    },
    {
      "cell_type": "code",
      "source": [
        "for i in range(len(message)):\n",
        "  print(message[i], end=' ')"
      ],
      "metadata": {
        "colab": {
          "base_uri": "https://localhost:8080/"
        },
        "id": "G5wuSxWD143j",
        "outputId": "0de32ffb-2e2d-44c0-f704-ddde8e045c10"
      },
      "execution_count": null,
      "outputs": [
        {
          "output_type": "stream",
          "name": "stdout",
          "text": [
            "a b c d e "
          ]
        }
      ]
    },
    {
      "cell_type": "code",
      "source": [
        "for char in message:\n",
        "  print(char, end=' ')"
      ],
      "metadata": {
        "colab": {
          "base_uri": "https://localhost:8080/"
        },
        "id": "Wr8wn5UK2D_s",
        "outputId": "79ffed07-3a11-49ae-f3d0-f3432ec8b8ad"
      },
      "execution_count": null,
      "outputs": [
        {
          "output_type": "stream",
          "name": "stdout",
          "text": [
            "a b c d e "
          ]
        }
      ]
    },
    {
      "cell_type": "code",
      "source": [
        "len(message)"
      ],
      "metadata": {
        "colab": {
          "base_uri": "https://localhost:8080/"
        },
        "id": "28bsSiuR2Rj1",
        "outputId": "cbb0cd3b-404e-4ea3-ecf1-ca1d7544e817"
      },
      "execution_count": null,
      "outputs": [
        {
          "output_type": "execute_result",
          "data": {
            "text/plain": [
              "5"
            ]
          },
          "metadata": {},
          "execution_count": 41
        }
      ]
    },
    {
      "cell_type": "code",
      "source": [
        "message.upper()"
      ],
      "metadata": {
        "colab": {
          "base_uri": "https://localhost:8080/",
          "height": 35
        },
        "id": "YIhCQU-u2UXb",
        "outputId": "9931c8c5-13d1-4e63-8710-215102b7e2bb"
      },
      "execution_count": null,
      "outputs": [
        {
          "output_type": "execute_result",
          "data": {
            "text/plain": [
              "'ABCDE'"
            ],
            "application/vnd.google.colaboratory.intrinsic+json": {
              "type": "string"
            }
          },
          "metadata": {},
          "execution_count": 42
        }
      ]
    },
    {
      "cell_type": "code",
      "source": [
        "message.isdigit()"
      ],
      "metadata": {
        "colab": {
          "base_uri": "https://localhost:8080/"
        },
        "id": "J_5S1CyU2dAF",
        "outputId": "5222c42d-76be-430f-c0d9-c9bef0267e07"
      },
      "execution_count": null,
      "outputs": [
        {
          "output_type": "execute_result",
          "data": {
            "text/plain": [
              "False"
            ]
          },
          "metadata": {},
          "execution_count": 43
        }
      ]
    },
    {
      "cell_type": "code",
      "source": [
        "\"12345\".isdigit()"
      ],
      "metadata": {
        "colab": {
          "base_uri": "https://localhost:8080/"
        },
        "id": "cajED3yu2lV7",
        "outputId": "39dde24c-9fce-463a-80f7-5a9a09aa06fd"
      },
      "execution_count": null,
      "outputs": [
        {
          "output_type": "execute_result",
          "data": {
            "text/plain": [
              "True"
            ]
          },
          "metadata": {},
          "execution_count": 44
        }
      ]
    },
    {
      "cell_type": "code",
      "source": [
        "message.isalpha()"
      ],
      "metadata": {
        "colab": {
          "base_uri": "https://localhost:8080/"
        },
        "id": "zSTUVUQS2t9b",
        "outputId": "f3ef38f3-65ad-4e0b-f2a3-a1c6b5dd046b"
      },
      "execution_count": null,
      "outputs": [
        {
          "output_type": "execute_result",
          "data": {
            "text/plain": [
              "True"
            ]
          },
          "metadata": {},
          "execution_count": 45
        }
      ]
    },
    {
      "cell_type": "code",
      "source": [
        "message.isalnum()"
      ],
      "metadata": {
        "colab": {
          "base_uri": "https://localhost:8080/"
        },
        "id": "0zumzIiv2zt-",
        "outputId": "ab2591f9-b567-40c0-a2ab-5bec1c0fc355"
      },
      "execution_count": null,
      "outputs": [
        {
          "output_type": "execute_result",
          "data": {
            "text/plain": [
              "True"
            ]
          },
          "metadata": {},
          "execution_count": 46
        }
      ]
    },
    {
      "cell_type": "code",
      "source": [
        "message"
      ],
      "metadata": {
        "colab": {
          "base_uri": "https://localhost:8080/",
          "height": 166
        },
        "id": "jANZYvTu2_R_",
        "outputId": "fa706d20-23d9-4e32-e631-1977c8cce90f"
      },
      "execution_count": null,
      "outputs": [
        {
          "output_type": "error",
          "ename": "AttributeError",
          "evalue": "ignored",
          "traceback": [
            "\u001b[0;31m---------------------------------------------------------------------------\u001b[0m",
            "\u001b[0;31mAttributeError\u001b[0m                            Traceback (most recent call last)",
            "\u001b[0;32m<ipython-input-48-63a1f1cb5d61>\u001b[0m in \u001b[0;36m<module>\u001b[0;34m\u001b[0m\n\u001b[0;32m----> 1\u001b[0;31m \u001b[0mmessage\u001b[0m\u001b[0;34m.\u001b[0m\u001b[0misproper\u001b[0m\u001b[0;34m(\u001b[0m\u001b[0;34m)\u001b[0m\u001b[0;34m\u001b[0m\u001b[0;34m\u001b[0m\u001b[0m\n\u001b[0m",
            "\u001b[0;31mAttributeError\u001b[0m: 'str' object has no attribute 'isproper'"
          ]
        }
      ]
    },
    {
      "cell_type": "code",
      "source": [
        "print() # one blank line\n",
        "print(\"\\n\") # two blank lines\n",
        "print(\"\\nGood\\nmorning\")"
      ],
      "metadata": {
        "colab": {
          "base_uri": "https://localhost:8080/"
        },
        "id": "D1NxN_Pl6uQQ",
        "outputId": "8e56af8f-0783-487b-dcc2-ea7fa3515feb"
      },
      "execution_count": null,
      "outputs": [
        {
          "output_type": "stream",
          "name": "stdout",
          "text": [
            "\n",
            "\n",
            "\n",
            "\n",
            "Good\n",
            "morning\n"
          ]
        }
      ]
    },
    {
      "cell_type": "markdown",
      "metadata": {
        "id": "iDlyhh_PrKP-"
      },
      "source": [
        "# Functions\n",
        "- reusable subprogram\n",
        "- built-in vs user-defined\n",
        "- DRY - Dun Repeat Yourself"
      ]
    },
    {
      "cell_type": "code",
      "source": [
        "import random\n",
        "\n",
        "for i in range(5):\n",
        "  print(random.randint(1,6)) # pseudo random"
      ],
      "metadata": {
        "colab": {
          "base_uri": "https://localhost:8080/"
        },
        "id": "WpWnuq6n7huo",
        "outputId": "9fc04772-14d6-4c39-a311-26add41aaa15"
      },
      "execution_count": null,
      "outputs": [
        {
          "output_type": "stream",
          "name": "stdout",
          "text": [
            "6\n",
            "5\n",
            "2\n",
            "6\n",
            "5\n"
          ]
        }
      ]
    },
    {
      "cell_type": "code",
      "source": [
        "import math \n",
        "\n",
        "print(math.pi)"
      ],
      "metadata": {
        "colab": {
          "base_uri": "https://localhost:8080/"
        },
        "id": "W0W6gd6s8fzH",
        "outputId": "b4b1e348-b199-4711-dcfb-bda9d33b2405"
      },
      "execution_count": null,
      "outputs": [
        {
          "output_type": "stream",
          "name": "stdout",
          "text": [
            "3.141592653589793\n"
          ]
        }
      ]
    },
    {
      "cell_type": "code",
      "source": [
        "from math import pi\n",
        "import random\n",
        "\n",
        "print(pi)\n",
        "#pi = 6.28\n",
        "#print(pi)"
      ],
      "metadata": {
        "colab": {
          "base_uri": "https://localhost:8080/"
        },
        "id": "tkHGf07Q9Nc7",
        "outputId": "97bd3889-808c-4264-8354-b9fa5d7e3be1"
      },
      "execution_count": null,
      "outputs": [
        {
          "output_type": "stream",
          "name": "stdout",
          "text": [
            "3.141592653589793\n"
          ]
        }
      ]
    },
    {
      "cell_type": "code",
      "source": [
        "print(pi)"
      ],
      "metadata": {
        "colab": {
          "base_uri": "https://localhost:8080/"
        },
        "id": "6JkAN53X969k",
        "outputId": "b18e9aa7-78e4-4ea7-9720-3ab98fd1f143"
      },
      "execution_count": null,
      "outputs": [
        {
          "output_type": "stream",
          "name": "stdout",
          "text": [
            "3.141592653589793\n"
          ]
        }
      ]
    },
    {
      "cell_type": "code",
      "source": [
        "print(\"Hello\")\n",
        "print(\"Hello\")\n",
        "print(\"Hello\")\n",
        "print(\"Hello\")\n",
        "print(\"Hello\")\n",
        "print(\"Hello\")\n",
        "print(\"Hello\")"
      ],
      "metadata": {
        "colab": {
          "base_uri": "https://localhost:8080/"
        },
        "id": "mFrFioYw_cWr",
        "outputId": "fbc7e86b-8cfb-461d-c289-d0659ec80f66"
      },
      "execution_count": null,
      "outputs": [
        {
          "output_type": "stream",
          "name": "stdout",
          "text": [
            "Hello\n",
            "Hello\n",
            "Hello\n",
            "Hello\n",
            "Hello\n",
            "Hello\n"
          ]
        }
      ]
    },
    {
      "cell_type": "code",
      "source": [
        "def greet():\n",
        "  print(\"Good morning\")\n",
        "\n",
        "# main\n",
        "#for i in range(7):\n",
        "#  greet()\n",
        "print(greet())"
      ],
      "metadata": {
        "colab": {
          "base_uri": "https://localhost:8080/"
        },
        "id": "PsYdnQvoADl7",
        "outputId": "8ac6d11b-d732-4df8-b5ff-c603098a681e"
      },
      "execution_count": null,
      "outputs": [
        {
          "output_type": "stream",
          "name": "stdout",
          "text": [
            "Good morning\n",
            "None\n"
          ]
        }
      ]
    },
    {
      "cell_type": "code",
      "source": [
        "# global and local variables\n",
        "\n",
        "def greet1():\n",
        "  msg = \"Good morning\" # local\n",
        "  print(\"inside function\", data)\n",
        "  return msg\n",
        "\n",
        "# main\n",
        "data = 123\n",
        "print(greet1())\n",
        "print(\"outside function\", data)"
      ],
      "metadata": {
        "colab": {
          "base_uri": "https://localhost:8080/"
        },
        "id": "Mbt6QOHKDUqo",
        "outputId": "09fb7af1-08c2-4679-8c57-3dd2631e06fb"
      },
      "execution_count": null,
      "outputs": [
        {
          "output_type": "stream",
          "name": "stdout",
          "text": [
            "inside function 123\n",
            "Good morning\n",
            "outside function 123\n"
          ]
        }
      ]
    },
    {
      "cell_type": "code",
      "source": [
        "def is_prime(n): # local\n",
        "  for i in range(2, n-1):\n",
        "    if n % i == 0: \n",
        "      return False\n",
        "  return True\n",
        "\n",
        "# main\n",
        "#print(is_prime(5))\n",
        "#print(is_prime(9))\n",
        "for i in range(11, 21):\n",
        "  print(i, is_prime(i))"
      ],
      "metadata": {
        "colab": {
          "base_uri": "https://localhost:8080/"
        },
        "id": "nAf9NCyeBaYg",
        "outputId": "54a01c0b-3176-4622-96be-0b23051552c5"
      },
      "execution_count": null,
      "outputs": [
        {
          "output_type": "stream",
          "name": "stdout",
          "text": [
            "11 True\n",
            "12 False\n",
            "13 True\n",
            "14 False\n",
            "15 False\n",
            "16 False\n",
            "17 True\n",
            "18 False\n",
            "19 True\n",
            "20 False\n"
          ]
        }
      ]
    },
    {
      "cell_type": "markdown",
      "metadata": {
        "id": "yefbrgacmINB"
      },
      "source": [
        "# Exercise \n",
        "\n",
        "Think of a first program involving input-process-output that you would use to introduce Python to your students. "
      ]
    },
    {
      "cell_type": "code",
      "source": [],
      "metadata": {
        "id": "Hg4VsHpJAC7o"
      },
      "execution_count": null,
      "outputs": []
    }
  ],
  "metadata": {
    "colab": {
      "provenance": [],
      "include_colab_link": true
    },
    "kernelspec": {
      "display_name": "Python 3",
      "name": "python3"
    },
    "language_info": {
      "name": "python"
    }
  },
  "nbformat": 4,
  "nbformat_minor": 0
}