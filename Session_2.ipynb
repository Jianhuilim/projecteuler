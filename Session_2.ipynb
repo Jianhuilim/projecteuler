{
  "nbformat": 4,
  "nbformat_minor": 0,
  "metadata": {
    "colab": {
      "provenance": [],
      "include_colab_link": true
    },
    "kernelspec": {
      "name": "python3",
      "display_name": "Python 3"
    },
    "language_info": {
      "name": "python"
    }
  },
  "cells": [
    {
      "cell_type": "markdown",
      "metadata": {
        "id": "view-in-github",
        "colab_type": "text"
      },
      "source": [
        "<a href=\"https://colab.research.google.com/github/Jianhuilim/projecteuler/blob/main/Session_2.ipynb\" target=\"_parent\"><img src=\"https://colab.research.google.com/assets/colab-badge.svg\" alt=\"Open In Colab\"/></a>"
      ]
    },
    {
      "cell_type": "markdown",
      "source": [
        "# Introduction to Python\n",
        "\n",
        "* comment\n",
        "* input and output\n",
        "* data types - int, float, str, bool\n",
        "* variables + assignment\n",
        "* operators - math/arithmetic, logical (and, or, not), comparison (==, !=, >, )\n",
        "* conditionals - if-else, nested\n",
        "* loops - for, while\n",
        "* \n",
        "# Loops (in general)\n",
        "- for (fixed number of times)\n",
        "- while (0 or more times)\n",
        "- repeat - until (not supported in Python) (at least once)"
      ],
      "metadata": {
        "id": "XNxQklfmkfCL"
      }
    },
    {
      "cell_type": "markdown",
      "source": [
        "## **Exercise**\n",
        "Think of a first program involving input-process-output that you would use to introduce Python to your students."
      ],
      "metadata": {
        "id": "Z3XbDs1VnV1k"
      }
    },
    {
      "cell_type": "code",
      "source": [
        "\"\"\"number of pairs of legs centipede has will depend on the input of the user\n",
        "the centipede has a pair of feelers on the head\n",
        "\n",
        "number of pairs of legs must be an integer between 4 and 50\"\"\"\n",
        "\n",
        "pairs = input()\n",
        "\n",
        "while int(pairs) < 4 or int(pairs) > 50:\n",
        "  pairs = input()\n",
        "\n",
        "print(\" \\/ \")\n",
        "print(\"  O \")\n",
        "\n",
        "for i in range(int(pairs)):\n",
        "  print(\" <O>\")\n",
        "\n",
        "print(\"  O \")"
      ],
      "metadata": {
        "id": "ggkEh46U7VQ1",
        "colab": {
          "base_uri": "https://localhost:8080/"
        },
        "outputId": "e30cc2ac-c6af-4ee4-ca46-dff56653edd3"
      },
      "execution_count": null,
      "outputs": [
        {
          "output_type": "stream",
          "name": "stdout",
          "text": [
            "3\n",
            "2\n",
            "52\n",
            "10\n",
            " \\/ \n",
            "  O \n",
            " <O>\n",
            " <O>\n",
            " <O>\n",
            " <O>\n",
            " <O>\n",
            " <O>\n",
            " <O>\n",
            " <O>\n",
            " <O>\n",
            " <O>\n",
            "  O \n"
          ]
        }
      ]
    },
    {
      "cell_type": "code",
      "source": [
        "for i in range(1, 11, 2):\n",
        "  print(i)\n"
      ],
      "metadata": {
        "colab": {
          "base_uri": "https://localhost:8080/"
        },
        "id": "tdHMKKPl00u9",
        "outputId": "0e04ebb0-ff47-4e2d-b7ad-95fd25d3bc75"
      },
      "execution_count": null,
      "outputs": [
        {
          "output_type": "stream",
          "name": "stdout",
          "text": [
            "1\n",
            "3\n",
            "5\n",
            "7\n",
            "9\n"
          ]
        }
      ]
    },
    {
      "cell_type": "code",
      "source": [
        "for i in range (1, 11, 1):\n",
        "  if i%2 == 1: # odd\n",
        "    print(i)"
      ],
      "metadata": {
        "colab": {
          "base_uri": "https://localhost:8080/"
        },
        "id": "caEDHiJM1Ovh",
        "outputId": "818ab672-e541-431b-debf-08b0ab110434"
      },
      "execution_count": null,
      "outputs": [
        {
          "output_type": "stream",
          "name": "stdout",
          "text": [
            "1\n",
            "3\n",
            "5\n",
            "7\n",
            "9\n"
          ]
        }
      ]
    },
    {
      "cell_type": "code",
      "source": [
        "i = 0\n",
        "\n",
        "while i < 5:\n",
        "  print(i)\n",
        "  i = i +  # i += 1\n"
      ],
      "metadata": {
        "colab": {
          "base_uri": "https://localhost:8080/"
        },
        "id": "phgwksCK4IZP",
        "outputId": "df8dc66b-d208-470a-adcc-e07c234b67ac"
      },
      "execution_count": null,
      "outputs": [
        {
          "output_type": "stream",
          "name": "stdout",
          "text": [
            "0\n",
            "1\n",
            "2\n",
            "3\n",
            "4\n"
          ]
        }
      ]
    },
    {
      "cell_type": "markdown",
      "source": [
        "\n",
        "# Programming Style\n",
        "Meaningful Identified names\n",
        "*   Meaningful identified names\n",
        "*   Appropriate comments\n",
        "*   Appropriate use of white space\n",
        "\n"
      ],
      "metadata": {
        "id": "yz4BrJqXsGEp"
      }
    },
    {
      "cell_type": "code",
      "source": [
        "# BMI Calculator\n",
        "\n",
        "# Input\n",
        "name = input(\"Enter name: \") # str\n",
        "weight = int(input (\"Enter weight (kg): \")) # int\n",
        "height = float(input(\"Enter height(m): \")) # float\n",
        "\n",
        "# process\n",
        "bmi = weight / (height * height)\n",
        "\n",
        "# output\n",
        "print(name, bmi)"
      ],
      "metadata": {
        "colab": {
          "base_uri": "https://localhost:8080/"
        },
        "id": "MuCI-vCEs6rB",
        "outputId": "596debc8-380b-43ff-8af9-d2a7e3b5c078"
      },
      "execution_count": null,
      "outputs": [
        {
          "output_type": "stream",
          "name": "stdout",
          "text": [
            "Enter name: James\n",
            "Enter weight (kg): 60\n",
            "Enter height(m): 1.7\n",
            "James 20.761245674740486\n"
          ]
        }
      ]
    },
    {
      "cell_type": "code",
      "source": [
        "# conditionals\n",
        "\n",
        "if bmi < 18.5:\n",
        "  print(\"malnutrition\")\n",
        "elif bmi < 23:\n",
        "  print(\"normal\")\n",
        "elif bmi < 27.5:\n",
        "  print(\"moderate risk\")\n",
        "else: # bmi > 27.5\n",
        "  print(\"high risk\")"
      ],
      "metadata": {
        "colab": {
          "base_uri": "https://localhost:8080/"
        },
        "id": "hY_jMNbPv_HY",
        "outputId": "6b5f129c-d374-4757-e90a-7077de44bf62"
      },
      "execution_count": null,
      "outputs": [
        {
          "output_type": "stream",
          "name": "stdout",
          "text": [
            "normal\n"
          ]
        }
      ]
    },
    {
      "cell_type": "code",
      "source": [
        "# conditionals\n",
        "\n",
        "if bmi < 18.5:\n",
        "  print(\"malnutrition\")\n",
        "if 18.5 <= bmi < 23:\n",
        "  print(\"normal\")\n",
        "if 23 <= bmi < 27.5:\n",
        "  print(\"moderate risk\")\n",
        "else: # bmi > 27.5\n",
        "  print(\"high risk\")"
      ],
      "metadata": {
        "id": "CpZhi6a7zTgI"
      },
      "execution_count": null,
      "outputs": []
    },
    {
      "cell_type": "code",
      "source": [
        "a = 2\n",
        "b = 3\n",
        "\n",
        "if a > b:\n",
        "  print(\"a bigger\")\n",
        "elif a < b:\n",
        "  print (\"a smaller\")\n",
        "else: # a==b\n",
        "  print(\"equal\")"
      ],
      "metadata": {
        "id": "jKqlIosJyFY1",
        "outputId": "08264bb1-9062-466c-e2a8-e15a1a0b2b79",
        "colab": {
          "base_uri": "https://localhost:8080/"
        }
      },
      "execution_count": null,
      "outputs": [
        {
          "output_type": "stream",
          "name": "stdout",
          "text": [
            "a smaller\n"
          ]
        }
      ]
    },
    {
      "cell_type": "code",
      "source": [
        "a = 2\n",
        "b = 3\n",
        "\n",
        "if a > b:\n",
        "  print(\"a bigger\")\n",
        "if a < b:\n",
        "  print (\"a smaller\")\n",
        "if a == b:\n",
        "  print(\"equal\")"
      ],
      "metadata": {
        "id": "SId-SjNNyhqz"
      },
      "execution_count": null,
      "outputs": []
    },
    {
      "cell_type": "code",
      "source": [
        "# Restaurant Bill Generator\n",
        "\n",
        "# Input\n",
        "\n",
        "# Process\n",
        "\n",
        "# Output\n",
        "\n"
      ],
      "metadata": {
        "id": "gQwJwZsTmKNw"
      },
      "execution_count": null,
      "outputs": []
    },
    {
      "cell_type": "markdown",
      "source": [
        "Lists\n",
        "Python's name for array\n",
        "organised collection of data where items are stored in contiguous locations in memory\n",
        "operations: declare/initialise, insert, remove, update, transverse"
      ],
      "metadata": {
        "id": "_oDtH_losLY5"
      }
    },
    {
      "cell_type": "code",
      "source": [
        "#declare/initialise\n",
        "\n",
        "bmis = []\n",
        "print(bmis)\n",
        "\n",
        "bmis = [20.5, 23.7, 16.2]\n",
        "print(bmis)\n",
        "rojak = [123, 3.14, \"tim\", True]\n",
        "print(rojak)\n"
      ],
      "metadata": {
        "id": "NxDUgrm_sbzm",
        "colab": {
          "base_uri": "https://localhost:8080/"
        },
        "outputId": "ce2e1caf-db82-4a02-a069-f751bfbd1fb8"
      },
      "execution_count": null,
      "outputs": [
        {
          "output_type": "stream",
          "name": "stdout",
          "text": [
            "[]\n",
            "[20.5, 23.7, 16.2]\n",
            "[123, 3.14, 'tim', True]\n"
          ]
        }
      ]
    },
    {
      "cell_type": "code",
      "source": [
        "print(bmis[2])\n",
        "print(bmis[len(bmis)-1])\n",
        "print(bmis[-1])"
      ],
      "metadata": {
        "colab": {
          "base_uri": "https://localhost:8080/"
        },
        "id": "PGclXPQwtmhz",
        "outputId": "2201f91b-ab0f-401e-d668-dff36b2e6d5a"
      },
      "execution_count": null,
      "outputs": [
        {
          "output_type": "stream",
          "name": "stdout",
          "text": [
            "16.2\n",
            "16.2\n",
            "16.2\n"
          ]
        }
      ]
    },
    {
      "cell_type": "code",
      "source": [
        "#slicing operation\n",
        "print(bmis[1:len(bmis)]) # bmis[1:3] #second entry, and exclusive of third\n",
        "print(bmis[1:])\n",
        "\n",
        "print(bmis[0:2])\n",
        "print(bmis[:2])"
      ],
      "metadata": {
        "colab": {
          "base_uri": "https://localhost:8080/"
        },
        "id": "oX_-GjVluedp",
        "outputId": "8b9db36d-8476-4430-f611-d513d01c0b0d"
      },
      "execution_count": null,
      "outputs": [
        {
          "output_type": "stream",
          "name": "stdout",
          "text": [
            "[23.7, 16.2]\n",
            "[23.7, 16.2]\n"
          ]
        }
      ]
    },
    {
      "cell_type": "code",
      "source": [
        "for i in range(len(bmis)):\n",
        "  print(bmis[i], end=' ') #leave a space after each number\n",
        "  print() #print('\\n')  print on new line"
      ],
      "metadata": {
        "colab": {
          "base_uri": "https://localhost:8080/"
        },
        "id": "Rlt5ERTwu5n2",
        "outputId": "b0096fbb-8cc5-4ec0-a0f1-2c1ddf253034"
      },
      "execution_count": null,
      "outputs": [
        {
          "output_type": "stream",
          "name": "stdout",
          "text": [
            "20.5 \n",
            "23.7 \n",
            "16.2 \n"
          ]
        }
      ]
    },
    {
      "cell_type": "code",
      "source": [
        "for i in range(len(bmis)-1):\n",
        "  print(bmis[i], end=' ')\n",
        "  print(bmis[-1]) "
      ],
      "metadata": {
        "colab": {
          "base_uri": "https://localhost:8080/"
        },
        "id": "sCiDft-Exjik",
        "outputId": "e39bfd21-0504-40f8-e6c1-c595dcba1d19"
      },
      "execution_count": null,
      "outputs": [
        {
          "output_type": "stream",
          "name": "stdout",
          "text": [
            "20.5 16.2\n",
            "23.7 16.2\n"
          ]
        }
      ]
    },
    {
      "cell_type": "code",
      "source": [
        "# insert to end\n",
        "bmis.appen(18.88)\n",
        "print(bmis)"
      ],
      "metadata": {
        "id": "4Gqerni0yDUE"
      },
      "execution_count": null,
      "outputs": []
    },
    {
      "cell_type": "code",
      "source": [
        "# insert to anywhere\n",
        "bmis.insert(0,111)\n",
        "print(bmis)"
      ],
      "metadata": {
        "id": "imEJu9zYybAf"
      },
      "execution_count": null,
      "outputs": []
    },
    {
      "cell_type": "code",
      "source": [
        "# insert to using index\n",
        "bmis.insert(3,555)\n",
        "print(bmis)"
      ],
      "metadata": {
        "id": "gS4Jw3BhyryI"
      },
      "execution_count": null,
      "outputs": []
    },
    {
      "cell_type": "code",
      "source": [
        "# delete from end\n",
        "bmis.pop()\n",
        "print(bmis)"
      ],
      "metadata": {
        "id": "bvBVa8lAy4nY"
      },
      "execution_count": null,
      "outputs": []
    },
    {
      "cell_type": "code",
      "source": [
        "# delete from anywhere \n",
        "bmis.remove(99.99) #remove the first occurence of the number\n",
        "print(bmis)"
      ],
      "metadata": {
        "id": "tAXYgluezFX_"
      },
      "execution_count": null,
      "outputs": []
    },
    {
      "cell_type": "code",
      "source": [
        "# delete using index\n",
        "del bmis[0] #remove from first position\n",
        "print(bmis)"
      ],
      "metadata": {
        "id": "NzAEEjXPzczZ"
      },
      "execution_count": null,
      "outputs": []
    },
    {
      "cell_type": "code",
      "source": [
        "# update\n",
        "bmis[0] = 88.88 #update value in first position\n",
        "print(bmis)"
      ],
      "metadata": {
        "id": "1j91XeZxzuwN"
      },
      "execution_count": null,
      "outputs": []
    },
    {
      "cell_type": "code",
      "source": [
        "print(bmis[-2]) #print second number from the right"
      ],
      "metadata": {
        "id": "cQDAH3yJzsw-"
      },
      "execution_count": null,
      "outputs": []
    },
    {
      "cell_type": "code",
      "source": [
        "#strings\n",
        "\n",
        "message = 'abcde' #\"abcde\" or '''abcde''' or \"\"\"abcde\"\"\"\n",
        "print(message)"
      ],
      "metadata": {
        "id": "C6FwYB9K1F5c"
      },
      "execution_count": null,
      "outputs": []
    },
    {
      "cell_type": "code",
      "source": [
        "for i in range(len(message)):\n",
        "  print(message[i], end='')"
      ],
      "metadata": {
        "id": "RbanWvMA18mB"
      },
      "execution_count": null,
      "outputs": []
    },
    {
      "cell_type": "code",
      "source": [
        "for char in message:\n",
        "  print(char, end='')"
      ],
      "metadata": {
        "id": "AzIsYMYG2IUl"
      },
      "execution_count": null,
      "outputs": []
    },
    {
      "cell_type": "code",
      "source": [
        "message.isalpha"
      ],
      "metadata": {
        "id": "0cghP_iV3MCV"
      },
      "execution_count": null,
      "outputs": []
    },
    {
      "cell_type": "code",
      "source": [
        "# print() #print one blank line\n",
        "# print(\\n) #print 2 blank lines\n",
        "print(\"\\nGood \\nmorning\")"
      ],
      "metadata": {
        "colab": {
          "base_uri": "https://localhost:8080/"
        },
        "id": "Y0g2hNbp7miY",
        "outputId": "37b2a7aa-0fbb-4234-f2b1-0fc3596d2327"
      },
      "execution_count": null,
      "outputs": [
        {
          "output_type": "stream",
          "name": "stdout",
          "text": [
            "\n",
            "Good \n",
            "morning\n"
          ]
        }
      ]
    },
    {
      "cell_type": "markdown",
      "source": [
        "Functions\n",
        "- reusable subprogram\n",
        "- built in vs user defined"
      ],
      "metadata": {
        "id": "Vx3dzbSp7cfj"
      }
    },
    {
      "cell_type": "code",
      "source": [
        "import random\n",
        "for i in range(5): # to simulate 5 times\n",
        "  print(random.randint(1,6)) #pseudo random"
      ],
      "metadata": {
        "id": "DgKajZ1W8Cb-",
        "colab": {
          "base_uri": "https://localhost:8080/",
          "height": 131
        },
        "outputId": "51ed0e55-db01-4a98-b781-8494ec63449d"
      },
      "execution_count": null,
      "outputs": [
        {
          "output_type": "error",
          "ename": "IndentationError",
          "evalue": "ignored",
          "traceback": [
            "\u001b[0;36m  File \u001b[0;32m\"<ipython-input-28-d9757022c9b2>\"\u001b[0;36m, line \u001b[0;32m2\u001b[0m\n\u001b[0;31m    for i in range(5) # to simulate 5 times\u001b[0m\n\u001b[0m    ^\u001b[0m\n\u001b[0;31mIndentationError\u001b[0m\u001b[0;31m:\u001b[0m unexpected indent\n"
          ]
        }
      ]
    },
    {
      "cell_type": "code",
      "source": [
        "import math\n",
        "print(math.pi)\n"
      ],
      "metadata": {
        "colab": {
          "base_uri": "https://localhost:8080/"
        },
        "id": "O__EO5HV8idt",
        "outputId": "dd1acf1d-aa5b-473b-ac15-fce04496b0b8"
      },
      "execution_count": null,
      "outputs": [
        {
          "output_type": "stream",
          "name": "stdout",
          "text": [
            "3.141592653589793\n"
          ]
        }
      ]
    },
    {
      "cell_type": "code",
      "source": [
        "from math import * #* is a wild card that indicates import everything\n",
        "print (pi)"
      ],
      "metadata": {
        "colab": {
          "base_uri": "https://localhost:8080/"
        },
        "id": "pbw2Ryz-9vR6",
        "outputId": "71dd270f-27fe-46cf-a6de-45166372e35a"
      },
      "execution_count": null,
      "outputs": [
        {
          "output_type": "stream",
          "name": "stdout",
          "text": [
            "3.141592653589793\n"
          ]
        }
      ]
    },
    {
      "cell_type": "code",
      "source": [
        "def greet():   #invent a function\n",
        "  print(\"hello\") \n",
        "\n",
        "# main\n",
        "for i in range (7): #repeat 7 times\n",
        "  print(greet()) #will include none if you include print command"
      ],
      "metadata": {
        "id": "j2D8tSqM_fgt"
      },
      "execution_count": null,
      "outputs": []
    },
    {
      "cell_type": "code",
      "source": [
        "def greet():   #invent a function\n",
        "  return(\"hello\")\n",
        "\n",
        "# main\n",
        "for i in range (7): #repeat 7 times\n",
        "  print(greet())"
      ],
      "metadata": {
        "colab": {
          "base_uri": "https://localhost:8080/"
        },
        "id": "YkPX6Jl7DuW0",
        "outputId": "c9754dd9-589c-4c2f-822f-d9a96f77205b"
      },
      "execution_count": null,
      "outputs": [
        {
          "output_type": "stream",
          "name": "stdout",
          "text": [
            "hello\n",
            "hello\n",
            "hello\n",
            "hello\n",
            "hello\n",
            "hello\n",
            "hello\n"
          ]
        }
      ]
    },
    {
      "cell_type": "code",
      "source": [
        "def is_prime(n):\n",
        "  for i in range(2, n-1):\n",
        "    if n % i == 0:\n",
        "      return False\n",
        "    return True\n",
        "  \n",
        "  # main\n",
        "  # print(is_prime(5))\n",
        "  # print(is_prime(9))\n",
        "  for i in range (11, 21):\n",
        "    print(i, is_prime(i))"
      ],
      "metadata": {
        "id": "Uam3--I5BzeG"
      },
      "execution_count": null,
      "outputs": []
    }
  ]
}