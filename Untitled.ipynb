{
  "nbformat": 4,
  "nbformat_minor": 0,
  "metadata": {
    "colab": {
      "provenance": [],
      "authorship_tag": "ABX9TyMLpGgFzamDnZBRQUWR2XaY",
      "include_colab_link": true
    },
    "kernelspec": {
      "name": "python3",
      "display_name": "Python 3"
    },
    "language_info": {
      "name": "python"
    }
  },
  "cells": [
    {
      "cell_type": "markdown",
      "metadata": {
        "id": "view-in-github",
        "colab_type": "text"
      },
      "source": [
        "<a href=\"https://colab.research.google.com/github/Jianhuilim/projecteuler/blob/main/Untitled.ipynb\" target=\"_parent\"><img src=\"https://colab.research.google.com/assets/colab-badge.svg\" alt=\"Open In Colab\"/></a>"
      ]
    },
    {
      "cell_type": "markdown",
      "source": [
        "Introduction to Python\n",
        "get input\n",
        "process\n",
        "output result"
      ],
      "metadata": {
        "id": "WWGSJ3fXoGZr"
      }
    },
    {
      "cell_type": "code",
      "execution_count": 4,
      "metadata": {
        "id": "9J8fMgCnk3u_"
      },
      "outputs": [],
      "source": [
        "# get input (comments)\n",
        "name = input(\"Enter name: \")\n",
        "\n",
        "# process\n",
        "name = name.upper()\n",
        "\n",
        "# output result\n",
        "print(name)\n"
      ]
    },
    {
      "cell_type": "code",
      "source": [
        "# Calculate BMI (body mass index)\n",
        "\n",
        "# get weight \n",
        "weight = int(input(\"Enter weight (kg): \")) # integer\n",
        "# get height\n",
        "height = float(input(\"Enter height (m): \")) # float\n",
        "\n",
        "# compute bmi\n",
        "bmi = weight / (height * height)\n",
        "\n",
        "# output bmi\n",
        "print(bmi)"
      ],
      "metadata": {
        "id": "QPGV4oSBk97C"
      },
      "execution_count": null,
      "outputs": []
    },
    {
      "cell_type": "markdown",
      "source": [
        "Shortcut for multiple line comment - Ctrl /"
      ],
      "metadata": {
        "id": "LHgeT3HioUhw"
      }
    },
    {
      "cell_type": "code",
      "source": [
        "# Multiples of 3 or 5 \n",
        "# Problem 1\n",
        "# If we list all the natural numbers below 10 that are multiples of 3 or 5, \n",
        "# we get 3, 5, 6 and 9. The sum of these multiples is 23.\n",
        "# Find the sum of all the multiples of 3 or 5 below 1000.\n",
        "\n",
        "# process\n",
        "\n",
        "\n",
        "# output"
      ],
      "metadata": {
        "id": "I4x9SsKYoWMV"
      },
      "execution_count": null,
      "outputs": []
    },
    {
      "cell_type": "code",
      "source": [
        "9 / 4 # true division"
      ],
      "metadata": {
        "id": "9kpfnESuocvf"
      },
      "execution_count": null,
      "outputs": []
    },
    {
      "cell_type": "code",
      "source": [
        "9 // 4 # integer division"
      ],
      "metadata": {
        "id": "2J81RjN1of2e"
      },
      "execution_count": null,
      "outputs": []
    },
    {
      "cell_type": "code",
      "source": [
        "3 ** 4"
      ],
      "metadata": {
        "id": "qvha1qq7oieg"
      },
      "execution_count": null,
      "outputs": []
    },
    {
      "cell_type": "code",
      "source": [
        " 8 % 3 # modulus"
      ],
      "metadata": {
        "id": "-QUUqYUJokTC"
      },
      "execution_count": null,
      "outputs": []
    },
    {
      "cell_type": "code",
      "source": [
        "8 % 4"
      ],
      "metadata": {
        "id": "5DQ_HPmvonZi"
      },
      "execution_count": null,
      "outputs": []
    },
    {
      "cell_type": "code",
      "source": [
        "8 % 4 == 0 # boolean"
      ],
      "metadata": {
        "id": "S17TRhr2oqYl"
      },
      "execution_count": null,
      "outputs": []
    },
    {
      "cell_type": "code",
      "source": [
        "8 % 3 == 0"
      ],
      "metadata": {
        "id": "FH4Rhj9hosPc"
      },
      "execution_count": null,
      "outputs": []
    },
    {
      "cell_type": "code",
      "source": [
        "if 8 % 3 == 0: # 9 is multiple of 3\n",
        "  print(\"multiple\")\n",
        "else:\n",
        "  print(\"not divisible\")"
      ],
      "metadata": {
        "id": "yecAmM1Qovz0"
      },
      "execution_count": null,
      "outputs": []
    },
    {
      "cell_type": "code",
      "source": [
        "num = 6\n",
        "\n",
        "if num % 3 == 0: # divisible\n",
        "  print(\"divisible\")\n",
        "else:\n",
        "  print(\"not divisible\")"
      ],
      "metadata": {
        "id": "p8kSFFUVoyEx"
      },
      "execution_count": null,
      "outputs": []
    },
    {
      "cell_type": "code",
      "source": [
        "for i in range(0, 5):\n",
        "  print(i)"
      ],
      "metadata": {
        "id": "O2yPJc-uo0TS"
      },
      "execution_count": null,
      "outputs": []
    },
    {
      "cell_type": "code",
      "source": [
        "total = 0\n",
        "\n",
        "for i in range(1, 1000):\n",
        "  # print(i)\n",
        "  if (i % 3 == 0) or (i % 5 == 0): # divisible because zero remainder\n",
        "    total = total + i # assignment\n",
        "\n",
        "print(total)"
      ],
      "metadata": {
        "id": "TfFraEvQo02V"
      },
      "execution_count": null,
      "outputs": []
    }
  ]
}