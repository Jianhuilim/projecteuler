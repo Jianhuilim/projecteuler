{
  "nbformat": 4,
  "nbformat_minor": 0,
  "metadata": {
    "colab": {
      "provenance": [],
      "authorship_tag": "ABX9TyOZKkEpbag8qOI3YCdkRoxB",
      "include_colab_link": true
    },
    "kernelspec": {
      "name": "python3",
      "display_name": "Python 3"
    },
    "language_info": {
      "name": "python"
    }
  },
  "cells": [
    {
      "cell_type": "markdown",
      "metadata": {
        "id": "view-in-github",
        "colab_type": "text"
      },
      "source": [
        "<a href=\"https://colab.research.google.com/github/Jianhuilim/projecteuler/blob/main/Task_6.ipynb\" target=\"_parent\"><img src=\"https://colab.research.google.com/assets/colab-badge.svg\" alt=\"Open In Colab\"/></a>"
      ]
    },
    {
      "cell_type": "code",
      "execution_count": 24,
      "metadata": {
        "colab": {
          "base_uri": "https://localhost:8080/"
        },
        "id": "Vt3JG0UvCnwS",
        "outputId": "31dd1a91-e480-4eac-e6f2-a06ce61bed37"
      },
      "outputs": [
        {
          "output_type": "stream",
          "name": "stdout",
          "text": [
            "385\n",
            "21904\n"
          ]
        }
      ],
      "source": [
        "# The sum of the squares of the first ten natural numbers is 385,\n",
        "# The square of the sum of the first ten natural numbers is 3025,\n",
        "# Hence the difference between the sum of the squares of the first ten natural numbers and the square of the sum is 2640.\n",
        "# Find the differ1ence between the sum of the squares of the first one hundred natural numbers and the square of the sum.\n",
        "\n",
        "total = 0 # sum of squares\n",
        "square = 0 # squares of sum\n",
        "\n",
        "for i in range (1,11): #print (i) \n",
        "   total = total + i**2\n",
        "\n",
        "print(total)\n",
        "\n",
        "for i in range (1,5): #print (i)\n",
        "  square = ((square + i))**2\n",
        "\n",
        "print(square)"
      ]
    }
  ]
}