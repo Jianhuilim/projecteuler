{
  "nbformat": 4,
  "nbformat_minor": 0,
  "metadata": {
    "colab": {
      "provenance": [],
      "authorship_tag": "ABX9TyNAnBSiUYP7sZh20NiKiU55",
      "include_colab_link": true
    },
    "kernelspec": {
      "name": "python3",
      "display_name": "Python 3"
    },
    "language_info": {
      "name": "python"
    }
  },
  "cells": [
    {
      "cell_type": "markdown",
      "metadata": {
        "id": "view-in-github",
        "colab_type": "text"
      },
      "source": [
        "<a href=\"https://colab.research.google.com/github/Jianhuilim/projecteuler/blob/main/Task_6.ipynb\" target=\"_parent\"><img src=\"https://colab.research.google.com/assets/colab-badge.svg\" alt=\"Open In Colab\"/></a>"
      ]
    },
    {
      "cell_type": "code",
      "execution_count": 42,
      "metadata": {
        "colab": {
          "base_uri": "https://localhost:8080/"
        },
        "id": "Vt3JG0UvCnwS",
        "outputId": "26252d4c-4c40-4bc8-8e00-b9c91200f02f"
      },
      "outputs": [
        {
          "output_type": "stream",
          "name": "stdout",
          "text": [
            "338350\n",
            "5050\n",
            "25502500\n",
            "25164150\n"
          ]
        }
      ],
      "source": [
        "# The sum of the squares of the first ten natural numbers is 385,\n",
        "# The square of the sum of the first ten natural numbers is 3025,\n",
        "# Hence the difference between the sum of the squares of the first ten natural numbers and the square of the sum is 2640.\n",
        "# Find the difference between the sum of the squares of the first one hundred natural numbers and the square of the sum.\n",
        "\n",
        "total = 0 # sum of squares\n",
        "square = 0 # squares of sum\n",
        "number = 0\n",
        "difference = 0 # square-total\n",
        "\n",
        "for i in range (1,101): #print (i) \n",
        "   total = total + i**2\n",
        "\n",
        "print(total)\n",
        "\n",
        "for i in range (1,101): #print (i)\n",
        "  number = number + i\n",
        "print(number)\n",
        "   \n",
        "square = number**2\n",
        "print(square)\n",
        "\n",
        "difference = square-total\n",
        "print(difference)"
      ]
    }
  ]
}